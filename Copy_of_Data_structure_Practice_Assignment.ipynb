{
 "cells": [
  {
   "cell_type": "markdown",
   "id": "8pRf9jW4fyVP",
   "metadata": {
    "id": "8pRf9jW4fyVP"
   },
   "source": [
    "# Lists, Tuples, and Sets : Practice Assignment\n",
    "\n",
    "### Dear students these question will help you build a very strong foundation on data structures specificaly as data analyst\n",
    "\n",
    "Each problem has:\n",
    "- **Problem statement**\n",
    "- **What the expected answer should look like** (an example of the final result/state)\n",
    "- An **empty code cell** for you to solve it (look for `# write your code here`).\n",
    "\n",
    "> Tip: Run cells independently."
   ]
  },
  {
   "cell_type": "markdown",
   "id": "dIbr5ZfofyVS",
   "metadata": {
    "id": "dIbr5ZfofyVS"
   },
   "source": [
    "### List Q1\n",
    "\n",
    "**Problem:** Write a program to retrieve the value 4 from the list `my_list = [[1, 2], [3, 4], [5, 6]]` using indexing.\n",
    "\n",
    "**Expected answer should look like (example):**\n",
    "```\n",
    "4\n",
    "```"
   ]
  },
  {
   "cell_type": "code",
   "execution_count": null,
   "id": "qKpIQgUPfyVS",
   "metadata": {
    "colab": {
     "base_uri": "https://localhost:8080/"
    },
    "id": "qKpIQgUPfyVS",
    "outputId": "d5e94500-ee91-4d35-84fe-fda4a27c2d06"
   },
   "outputs": [
    {
     "name": "stdout",
     "output_type": "stream",
     "text": [
      "4\n"
     ]
    }
   ],
   "source": [
    "my_list = [[1,2],[3,4],[5,6]]\n",
    "print(my_list[1][1])"
   ]
  },
  {
   "cell_type": "markdown",
   "id": "qErZqUJvfyVT",
   "metadata": {
    "id": "qErZqUJvfyVT"
   },
   "source": [
    "### List Q2\n",
    "\n",
    "**Problem:** Write a program to reverse the list `[10, 20, 30, 40, 50]` using slicing and explain how the slicing parameters achieve the result.\n",
    "\n",
    "**Expected answer should look like (example):**\n",
    "```\n",
    "[50, 40, 30, 20, 10]  # slicing: lst[::-1] (start:end:step=-1)\n",
    "```"
   ]
  },
  {
   "cell_type": "code",
   "execution_count": null,
   "id": "Xb_G2R0GfyVT",
   "metadata": {
    "colab": {
     "base_uri": "https://localhost:8080/"
    },
    "id": "Xb_G2R0GfyVT",
    "outputId": "e1d89fbf-2720-4ba2-cf2b-681fcf548eb7"
   },
   "outputs": [
    {
     "name": "stdout",
     "output_type": "stream",
     "text": [
      "[50, 40, 30, 20, 10]\n"
     ]
    }
   ],
   "source": [
    "my_list = [10,20,30,40,50]\n",
    "print(my_list[::-1])"
   ]
  },
  {
   "cell_type": "markdown",
   "id": "wk0JTcZgfyVU",
   "metadata": {
    "id": "wk0JTcZgfyVU"
   },
   "source": [
    "### List Q3\n",
    "\n",
    "**Problem:** Write a program to extract every second element from the list `[1, 2, 3, 4, 5, 6, 7, 8]` using slicing.\n",
    "\n",
    "**Expected answer should look like (example):**\n",
    "```\n",
    "[2, 4, 6, 8]\n",
    "```"
   ]
  },
  {
   "cell_type": "code",
   "execution_count": null,
   "id": "yRA2C-H5fyVU",
   "metadata": {
    "colab": {
     "base_uri": "https://localhost:8080/"
    },
    "id": "yRA2C-H5fyVU",
    "outputId": "270a3892-89ba-4b52-d080-4c645e585bf4"
   },
   "outputs": [
    {
     "name": "stdout",
     "output_type": "stream",
     "text": [
      "[2, 4, 6, 8]\n"
     ]
    }
   ],
   "source": [
    "list1= [1,2,3,4,5,6,7,8]\n",
    "print(list1[1::2])"
   ]
  },
  {
   "cell_type": "markdown",
   "id": "oK9W1WZBfyVU",
   "metadata": {
    "id": "oK9W1WZBfyVU"
   },
   "source": [
    "### List Q4\n",
    "\n",
    "**Problem:** Write a program to replace the middle two elements of the list `[10, 20, 30, 40, 50]` with `[99, 100, 101]` using slicing.\n",
    "\n",
    "**Expected answer should look like (example):**\n",
    "```\n",
    "[10, 20, 99, 100, 101, 50]\n",
    "```"
   ]
  },
  {
   "cell_type": "code",
   "execution_count": null,
   "id": "uB4t-1-FfyVU",
   "metadata": {
    "colab": {
     "base_uri": "https://localhost:8080/"
    },
    "id": "uB4t-1-FfyVU",
    "outputId": "81b5d021-04f6-4bf4-b9ff-85b9719a0cca"
   },
   "outputs": [
    {
     "name": "stdout",
     "output_type": "stream",
     "text": [
      "[10, 20, 99, 100, 101, 50]\n"
     ]
    }
   ],
   "source": [
    "my_list = [10,20,30,40,50]\n",
    "my_list[2:4]=[99,100,101]\n",
    "print(my_list)"
   ]
  },
  {
   "cell_type": "markdown",
   "id": "mOp9HBHafyVU",
   "metadata": {
    "id": "mOp9HBHafyVU"
   },
   "source": [
    "### List Q5\n",
    "\n",
    "**Problem:** Write a program to transform the list `[1, 2, 3, 4, 5]` into `[1, 99, 100, 101, 4, 5]` by modifying a slice.\n",
    "\n",
    "**Expected answer should look like (example):**\n",
    "```\n",
    "[1, 99, 100, 101, 4, 5]\n",
    "```"
   ]
  },
  {
   "cell_type": "code",
   "execution_count": null,
   "id": "STvMWW5GfyVV",
   "metadata": {
    "colab": {
     "base_uri": "https://localhost:8080/"
    },
    "id": "STvMWW5GfyVV",
    "outputId": "d9b075bc-eeaa-4abd-8eaa-38fcaa65859c"
   },
   "outputs": [
    {
     "name": "stdout",
     "output_type": "stream",
     "text": [
      "[1, 99, 100, 101, 4, 5]\n"
     ]
    }
   ],
   "source": [
    "my_list = [1,2,3,4,5]\n",
    "my_list[1:3]=[99,100,101]\n",
    "print(my_list)"
   ]
  },
  {
   "cell_type": "markdown",
   "id": "YboV54EpfyVV",
   "metadata": {
    "id": "YboV54EpfyVV"
   },
   "source": [
    "### List Q6\n",
    "\n",
    "**Problem:** Write a program to concatenate two lists without using the `+` operator.\n",
    "\n",
    "**Expected answer should look like (example):**\n",
    "```\n",
    "[...concatenated items...]  # e.g., via unpacking or extend\n",
    "```"
   ]
  },
  {
   "cell_type": "code",
   "execution_count": null,
   "id": "qEzZVAuGfyVV",
   "metadata": {
    "colab": {
     "base_uri": "https://localhost:8080/"
    },
    "id": "qEzZVAuGfyVV",
    "outputId": "7be0234e-f7c6-4568-ba8d-9a5948418eae"
   },
   "outputs": [
    {
     "name": "stdout",
     "output_type": "stream",
     "text": [
      "[1, 2, 3, 4, 5, 6, 7, 8, 9, 10]\n"
     ]
    }
   ],
   "source": [
    "list1 = [1,2,3,4,5]\n",
    "list2 = [6,7,8,9,10]\n",
    "list1.extend(list2)\n",
    "print(list1)"
   ]
  },
  {
   "cell_type": "markdown",
   "id": "aiMDaI-CfyVV",
   "metadata": {
    "id": "aiMDaI-CfyVV"
   },
   "source": [
    "### List Q7\n",
    "\n",
    "**Problem:** Write a program to demonstrate how the `extend` method behaves if the argument is a string using `my_list = [1, 2, 3]`.\n",
    "\n",
    "**Expected answer should look like (example):**\n",
    "```\n",
    "[1, 2, 3, 'a', 'b', 'c']  # e.g., my_list.extend('abc') adds each char\n",
    "```"
   ]
  },
  {
   "cell_type": "code",
   "execution_count": null,
   "id": "xYcujVcnfyVV",
   "metadata": {
    "colab": {
     "base_uri": "https://localhost:8080/"
    },
    "id": "xYcujVcnfyVV",
    "outputId": "a2f4d1bf-e9e7-4ddd-b048-c698e89daffc"
   },
   "outputs": [
    {
     "name": "stdout",
     "output_type": "stream",
     "text": [
      "[1, 2, 3, 'a', 'b', 'c']\n"
     ]
    }
   ],
   "source": [
    "# write your code here\n",
    "my_list = [1,2,3]\n",
    "my_list.extend(\"abc\")\n",
    "print(my_list)\n"
   ]
  },
  {
   "cell_type": "markdown",
   "id": "jDPtjjYrfyVV",
   "metadata": {
    "id": "jDPtjjYrfyVV"
   },
   "source": [
    "### List Q8\n",
    "\n",
    "**Problem:** Write a program that uses `extend` to merge two lists in such a way that duplicates from the second list are not added.\n",
    "\n",
    "**Expected answer should look like (example):**\n",
    "```\n",
    "[merged_unique_list]  # second list's items only if not already present\n",
    "```"
   ]
  },
  {
   "cell_type": "code",
   "execution_count": null,
   "id": "MDSsR4YdfyVV",
   "metadata": {
    "colab": {
     "base_uri": "https://localhost:8080/"
    },
    "id": "MDSsR4YdfyVV",
    "outputId": "77362e10-1d69-452a-f65a-bfc25007dcfe"
   },
   "outputs": [
    {
     "name": "stdout",
     "output_type": "stream",
     "text": [
      "[1, 2, 3, 4, 5, 6, 7, 8, 9, 10]\n"
     ]
    }
   ],
   "source": [
    "# write your code here\n",
    "list1 = [1,2,3,4,5,6,7]\n",
    "list2 = [4,5,6,8,9,10,7]\n",
    "list1.extend(item for item in list2 if item not in list1)\n",
    "print(list1)\n"
   ]
  },
  {
   "cell_type": "markdown",
   "id": "bnFHf3nKfyVV",
   "metadata": {
    "id": "bnFHf3nKfyVV"
   },
   "source": [
    "### List Q9\n",
    "\n",
    "**Problem:** Write a program to create a list of 100 zeros using repetition and then replace every 10th element with 1.\n",
    "\n",
    "**Expected answer should look like (example):**\n",
    "```\n",
    "[1 appears at indices 9,19,29,...]\n",
    "```"
   ]
  },
  {
   "cell_type": "code",
   "execution_count": null,
   "id": "TnQW2Z11fyVV",
   "metadata": {
    "colab": {
     "base_uri": "https://localhost:8080/"
    },
    "id": "TnQW2Z11fyVV",
    "outputId": "777ae620-aa91-4871-8d7c-f3dc42f7891f"
   },
   "outputs": [
    {
     "name": "stdout",
     "output_type": "stream",
     "text": [
      "[0, 0, 0, 0, 0, 0, 0, 0, 0, 1, 0, 0, 0, 0, 0, 0, 0, 0, 0, 1, 0, 0, 0, 0, 0, 0, 0, 0, 0, 1, 0, 0, 0, 0, 0, 0, 0, 0, 0, 1, 0, 0, 0, 0, 0, 0, 0, 0, 0, 1, 0, 0, 0, 0, 0, 0, 0, 0, 0, 1, 0, 0, 0, 0, 0, 0, 0, 0, 0, 1, 0, 0, 0, 0, 0, 0, 0, 0, 0, 1, 0, 0, 0, 0, 0, 0, 0, 0, 0, 1, 0, 0, 0, 0, 0, 0, 0, 0, 0, 1]\n"
     ]
    }
   ],
   "source": [
    "# write your code here\n",
    "my_list = [0] * 100\n",
    "\n",
    "# Replace every 10th element with 1\n",
    "for i in range(9, 100, 10):  # indices 9, 19, 29, ..., 99\n",
    "    my_list[i] = 1\n",
    "\n",
    "# Print the list\n",
    "print(my_list)"
   ]
  },
  {
   "cell_type": "markdown",
   "id": "g2UP8pXGfyVW",
   "metadata": {
    "id": "g2UP8pXGfyVW"
   },
   "source": [
    "### List Q10\n",
    "\n",
    "**Problem:** Write a Python command without using a loop to check if **all** the elements of `[2, 4]` are present in the list `[1, 2, 3, 4, 5]`.\n",
    "\n",
    "**Expected answer should look like (example):**\n",
    "```\n",
    "True  # e.g., set([2,4]).issubset([1,2,3,4,5])\n",
    "```"
   ]
  },
  {
   "cell_type": "code",
   "execution_count": null,
   "id": "R8-l25c4fyVW",
   "metadata": {
    "colab": {
     "base_uri": "https://localhost:8080/"
    },
    "id": "R8-l25c4fyVW",
    "outputId": "6f2ce0ca-24da-4fb4-ab66-570128ca46d0"
   },
   "outputs": [
    {
     "name": "stdout",
     "output_type": "stream",
     "text": [
      "True\n"
     ]
    }
   ],
   "source": [
    "# write your code here\n",
    "my_list = [1,2,3,4,5]\n",
    "print(set([2,4]).issubset(my_list))"
   ]
  },
  {
   "cell_type": "markdown",
   "id": "aWvONtsUfyVW",
   "metadata": {
    "id": "aWvONtsUfyVW"
   },
   "source": [
    "### List Q11\n",
    "\n",
    "**Problem:** Write a program to use `not in` to filter out all the elements of a list that exist in another list, e.g., removing elements in `[2, 4]` from `[1, 2, 3, 4, 5]`.\n",
    "\n",
    "**Expected answer should look like (example):**\n",
    "```\n",
    "[1, 3, 5]\n",
    "```"
   ]
  },
  {
   "cell_type": "code",
   "execution_count": null,
   "id": "5RM0kWVufyVW",
   "metadata": {
    "colab": {
     "base_uri": "https://localhost:8080/"
    },
    "id": "5RM0kWVufyVW",
    "outputId": "283c42f3-cb37-4635-cab2-48b02ffd2434"
   },
   "outputs": [
    {
     "name": "stdout",
     "output_type": "stream",
     "text": [
      "[1, 3, 5]\n"
     ]
    }
   ],
   "source": [
    "# write your code here\n",
    "list1 = [1,2,3,4,5]\n",
    "list2 = [2,4]\n",
    "result = [item for item in list1 if item not in list2]\n",
    "print(result)"
   ]
  },
  {
   "cell_type": "markdown",
   "id": "gFcNPkVMfyVW",
   "metadata": {
    "id": "gFcNPkVMfyVW"
   },
   "source": [
    "### List Q12\n",
    "\n",
    "**Problem:** Create a list of integers from 1 to 10.\n",
    "\n",
    "**Expected answer should look like (example):**\n",
    "```\n",
    "[1, 2, 3, 4, 5, 6, 7, 8, 9, 10]\n",
    "```"
   ]
  },
  {
   "cell_type": "code",
   "execution_count": null,
   "id": "OMf9DKBffyVW",
   "metadata": {
    "colab": {
     "base_uri": "https://localhost:8080/"
    },
    "id": "OMf9DKBffyVW",
    "outputId": "2b93a9cf-2047-4ffe-9f01-136738f5ecaf"
   },
   "outputs": [
    {
     "name": "stdout",
     "output_type": "stream",
     "text": [
      "[1, 2, 3, 4, 5, 6, 7, 8, 9, 10]\n"
     ]
    }
   ],
   "source": [
    "# write your code here\n",
    "list1 = list(range(1,11))\n",
    "print(list1)"
   ]
  },
  {
   "cell_type": "markdown",
   "id": "qLAAloubfyVW",
   "metadata": {
    "id": "qLAAloubfyVW"
   },
   "source": [
    "### List Q13\n",
    "\n",
    "**Problem:** Add an element to the end of a list using `append()`.\n",
    "\n",
    "**Expected answer should look like (example):**\n",
    "```\n",
    "[...original..., 99]\n",
    "```"
   ]
  },
  {
   "cell_type": "code",
   "execution_count": null,
   "id": "JAEwIYJUfyVW",
   "metadata": {
    "colab": {
     "base_uri": "https://localhost:8080/"
    },
    "id": "JAEwIYJUfyVW",
    "outputId": "1c00a6ed-8947-4d15-c64d-9fe8429241a2"
   },
   "outputs": [
    {
     "name": "stdout",
     "output_type": "stream",
     "text": [
      "[1, 2, 3, 4, 5, 6, 7, 8, 9, 10, 11, 12, 99]\n"
     ]
    }
   ],
   "source": [
    "# write your code here\n",
    "my_list = [1,2,3,4,5,6,7,8,9,10,11,12]\n",
    "my_list.append(99)\n",
    "print(my_list)"
   ]
  },
  {
   "cell_type": "markdown",
   "id": "7FZcvrd6fyVW",
   "metadata": {
    "id": "7FZcvrd6fyVW"
   },
   "source": [
    "### List Q14\n",
    "\n",
    "**Problem:** Insert an element at the second position in a list.\n",
    "\n",
    "**Expected answer should look like (example):**\n",
    "```\n",
    "[first, NEW, rest...]\n",
    "```"
   ]
  },
  {
   "cell_type": "code",
   "execution_count": null,
   "id": "xSlSO0mOfyVW",
   "metadata": {
    "colab": {
     "base_uri": "https://localhost:8080/"
    },
    "id": "xSlSO0mOfyVW",
    "outputId": "043ba2c8-20c6-4fab-8b54-47c34b053988"
   },
   "outputs": [
    {
     "name": "stdout",
     "output_type": "stream",
     "text": [
      "[1, 20, 2, 3, 4, 5, 6, 7, 8, 9, 10]\n"
     ]
    }
   ],
   "source": [
    "# write your code here\n",
    "list1 = [1,2,3,4,5,6,7,8,9,10]\n",
    "list1.insert(1,20)\n",
    "print(list1)"
   ]
  },
  {
   "cell_type": "markdown",
   "id": "lvazvs0efyVW",
   "metadata": {
    "id": "lvazvs0efyVW"
   },
   "source": [
    "### List Q15\n",
    "\n",
    "**Problem:** Remove an element from a list using `remove()`.\n",
    "\n",
    "**Expected answer should look like (example):**\n",
    "```\n",
    "[list without that value]\n",
    "```"
   ]
  },
  {
   "cell_type": "code",
   "execution_count": null,
   "id": "IWI8ZjrPfyVW",
   "metadata": {
    "colab": {
     "base_uri": "https://localhost:8080/"
    },
    "id": "IWI8ZjrPfyVW",
    "outputId": "d6dd1cb3-c38e-44d1-a392-7e2e3f8e2c27"
   },
   "outputs": [
    {
     "name": "stdout",
     "output_type": "stream",
     "text": [
      "[1, 2, 3, 4, 5, 6, 8, 9, 10, 11]\n"
     ]
    }
   ],
   "source": [
    "# write your code here\n",
    "list1 = [1,2,3,4,5,6,7,8,9,10,11]\n",
    "list1.remove(7)\n",
    "print(list1)"
   ]
  },
  {
   "cell_type": "markdown",
   "id": "Se9S-xEmfyVW",
   "metadata": {
    "id": "Se9S-xEmfyVW"
   },
   "source": [
    "### List Q16\n",
    "\n",
    "**Problem:** Remove and return the last element of a list using `pop()`.\n",
    "\n",
    "**Expected answer should look like (example):**\n",
    "```\n",
    "popped_value  # and list becomes [..., without last]\n",
    "```"
   ]
  },
  {
   "cell_type": "code",
   "execution_count": null,
   "id": "WHUV0hJefyVW",
   "metadata": {
    "colab": {
     "base_uri": "https://localhost:8080/"
    },
    "id": "WHUV0hJefyVW",
    "outputId": "2b8abfc2-4333-4d39-f244-9097cdd17584"
   },
   "outputs": [
    {
     "name": "stdout",
     "output_type": "stream",
     "text": [
      "11\n",
      "[1, 2, 3, 4, 5, 6, 7, 8, 9, 10]\n"
     ]
    }
   ],
   "source": [
    "# write your code here\n",
    "my_list = [1,2,3,4,5,6,7,8,9,10,11]\n",
    "list1 = my_list.pop(10)\n",
    "print(list1)\n",
    "print(my_list)"
   ]
  },
  {
   "cell_type": "markdown",
   "id": "Cdiq_m0ufyVX",
   "metadata": {
    "id": "Cdiq_m0ufyVX"
   },
   "source": [
    "### List Q17\n",
    "\n",
    "**Problem:** Find the length of a list **without** using the `len()` function.\n",
    "\n",
    "**Expected answer should look like (example):**\n",
    "```\n",
    "10  # manual count with loop\n",
    "```"
   ]
  },
  {
   "cell_type": "code",
   "execution_count": null,
   "id": "zDB8NF_XfyVX",
   "metadata": {
    "colab": {
     "base_uri": "https://localhost:8080/"
    },
    "id": "zDB8NF_XfyVX",
    "outputId": "64e6da46-9da3-476a-87b0-ab95fe0119f5"
   },
   "outputs": [
    {
     "name": "stdout",
     "output_type": "stream",
     "text": [
      "10\n"
     ]
    }
   ],
   "source": [
    "# write your code here\n",
    "my_list = [1,2,3,4,5,6,7,8,9,10]\n",
    "count = 0\n",
    "for item in my_list:\n",
    "  count += 1\n",
    "print(count)"
   ]
  },
  {
   "cell_type": "markdown",
   "id": "PJjb0FSafyVX",
   "metadata": {
    "id": "PJjb0FSafyVX"
   },
   "source": [
    "### List Q18\n",
    "\n",
    "**Problem:** Slice a list to get the first 5 elements.\n",
    "\n",
    "**Expected answer should look like (example):**\n",
    "```\n",
    "lst[:5] -> first five elements\n",
    "```"
   ]
  },
  {
   "cell_type": "code",
   "execution_count": null,
   "id": "Hgf3_8IcfyVX",
   "metadata": {
    "colab": {
     "base_uri": "https://localhost:8080/"
    },
    "id": "Hgf3_8IcfyVX",
    "outputId": "b502d227-59e0-4cd4-b0e2-9869eb1b490d"
   },
   "outputs": [
    {
     "name": "stdout",
     "output_type": "stream",
     "text": [
      "[1, 2, 3, 4, 5]\n"
     ]
    }
   ],
   "source": [
    "# write your code here\n",
    "my_list = [1,2,3,4,5,6,7,8,9,10]\n",
    "print(my_list[:5])"
   ]
  },
  {
   "cell_type": "markdown",
   "id": "vy6IHVyxfyVX",
   "metadata": {
    "id": "vy6IHVyxfyVX"
   },
   "source": [
    "### List Q19\n",
    "\n",
    "**Problem:** Reverse a list using slicing.\n",
    "\n",
    "**Expected answer should look like (example):**\n",
    "```\n",
    "reversed_list  # lst[::-1]\n",
    "```"
   ]
  },
  {
   "cell_type": "code",
   "execution_count": null,
   "id": "-GzdbhQzfyVX",
   "metadata": {
    "colab": {
     "base_uri": "https://localhost:8080/"
    },
    "id": "-GzdbhQzfyVX",
    "outputId": "9f0ac70d-9884-4121-cd40-944d194e87da"
   },
   "outputs": [
    {
     "name": "stdout",
     "output_type": "stream",
     "text": [
      "reversed_list [10, 9, 8, 7, 6, 5, 4, 3, 2, 1]\n"
     ]
    }
   ],
   "source": [
    "# write your code here\n",
    "my_list = [1,2,3,4,5,6,7,8,9,10]\n",
    "#print(my_list[::-1])\n",
    "print(f'reversed_list',my_list[::-1])"
   ]
  },
  {
   "cell_type": "markdown",
   "id": "HrmHD5tHfyVb",
   "metadata": {
    "id": "HrmHD5tHfyVb"
   },
   "source": [
    "### List Q20\n",
    "\n",
    "**Problem:** Check if an element exists in a list using `in`.\n",
    "\n",
    "**Expected answer should look like (example):**\n",
    "```\n",
    "True/False\n",
    "```"
   ]
  },
  {
   "cell_type": "code",
   "execution_count": null,
   "id": "j83Skl7sfyVb",
   "metadata": {
    "colab": {
     "base_uri": "https://localhost:8080/"
    },
    "id": "j83Skl7sfyVb",
    "outputId": "4845f1bb-571c-4113-87a4-19e2fbe6dc6b"
   },
   "outputs": [
    {
     "name": "stdout",
     "output_type": "stream",
     "text": [
      "True\n"
     ]
    }
   ],
   "source": [
    "# write your code here\n",
    "my_list = [1,2,3,4,5,6,7,8,9,10]\n",
    "print(4 in my_list)"
   ]
  },
  {
   "cell_type": "markdown",
   "id": "K51fd9txfyVb",
   "metadata": {
    "id": "K51fd9txfyVb"
   },
   "source": [
    "### List Q21\n",
    "\n",
    "**Problem:** Concatenate two lists using the `+` operator.\n",
    "\n",
    "**Expected answer should look like (example):**\n",
    "```\n",
    "[combined elements]\n",
    "```"
   ]
  },
  {
   "cell_type": "code",
   "execution_count": null,
   "id": "VjBkHE1WfyVb",
   "metadata": {
    "colab": {
     "base_uri": "https://localhost:8080/"
    },
    "id": "VjBkHE1WfyVb",
    "outputId": "7bda0549-7758-4f70-da6a-ed00d3f964f0"
   },
   "outputs": [
    {
     "name": "stdout",
     "output_type": "stream",
     "text": [
      "[1, 2, 3, 4, 5, 6, 7, 8, 9, 10]\n"
     ]
    }
   ],
   "source": [
    "# write your code here\n",
    "list1 = [1,2,3,4,5]\n",
    "list2 = [6,7,8,9,10]\n",
    "print(list1+list2)"
   ]
  },
  {
   "cell_type": "markdown",
   "id": "UrDqHcRPfyVb",
   "metadata": {
    "id": "UrDqHcRPfyVb"
   },
   "source": [
    "### List Q22\n",
    "\n",
    "**Problem:** Find the sum of all elements in a list.\n",
    "\n",
    "**Expected answer should look like (example):**\n",
    "```\n",
    "numeric_sum\n",
    "```"
   ]
  },
  {
   "cell_type": "code",
   "execution_count": null,
   "id": "ngMHgBd_fyVb",
   "metadata": {
    "colab": {
     "base_uri": "https://localhost:8080/"
    },
    "id": "ngMHgBd_fyVb",
    "outputId": "46051782-5438-401c-fd41-e408f87939c0"
   },
   "outputs": [
    {
     "name": "stdout",
     "output_type": "stream",
     "text": [
      "55\n"
     ]
    }
   ],
   "source": [
    "# write your code here\n",
    "my_list = [1,2,3,4,5,6,7,8,9,10]\n",
    "print(sum(my_list))"
   ]
  },
  {
   "cell_type": "markdown",
   "id": "wSQRcLcNfyVb",
   "metadata": {
    "id": "wSQRcLcNfyVb"
   },
   "source": [
    "### List Q23\n",
    "\n",
    "**Problem:** Use list comprehension to generate a list of odd numbers from 1 to 10.\n",
    "\n",
    "**Expected answer should look like (example):**\n",
    "```\n",
    "[1, 3, 5, 7, 9]\n",
    "```"
   ]
  },
  {
   "cell_type": "code",
   "execution_count": null,
   "id": "6aBwuaj2fyVc",
   "metadata": {
    "colab": {
     "base_uri": "https://localhost:8080/"
    },
    "id": "6aBwuaj2fyVc",
    "outputId": "28913170-a604-4022-b253-c53ba43c4a77"
   },
   "outputs": [
    {
     "name": "stdout",
     "output_type": "stream",
     "text": [
      "[1, 3, 5, 7, 9]\n"
     ]
    }
   ],
   "source": [
    "# write your code here\n",
    "my_list = [1,2,3,4,5,6,7,8,9,10]\n",
    "print([item for item in my_list if item %2!=0])"
   ]
  },
  {
   "cell_type": "markdown",
   "id": "IQEJlGtWfyVc",
   "metadata": {
    "id": "IQEJlGtWfyVc"
   },
   "source": [
    "### List Q24\n",
    "\n",
    "**Problem:** Convert a list with duplicate elements into a set to remove duplicates.\n",
    "\n",
    "**Expected answer should look like (example):**\n",
    "```\n",
    "{unique_elements}\n",
    "```"
   ]
  },
  {
   "cell_type": "code",
   "execution_count": null,
   "id": "2L_StV1tfyVc",
   "metadata": {
    "colab": {
     "base_uri": "https://localhost:8080/"
    },
    "id": "2L_StV1tfyVc",
    "outputId": "cef273db-e9d1-4d7b-94e2-d3cfa1d2bb86"
   },
   "outputs": [
    {
     "name": "stdout",
     "output_type": "stream",
     "text": [
      "{1, 2, 3, 4, 5, 6, 7, 8, 9, 10}\n"
     ]
    }
   ],
   "source": [
    "# write your code here\n",
    "my_list = [1,2,3,4,4,5,5,6,6,7,8,9,6,9,10]\n",
    "print(set(my_list))"
   ]
  },
  {
   "cell_type": "markdown",
   "id": "EELV4nHgfyVc",
   "metadata": {
    "id": "EELV4nHgfyVc"
   },
   "source": [
    "### List Q25\n",
    "\n",
    "**Problem:** Convert a string to a list of its characters.\n",
    "\n",
    "**Expected answer should look like (example):**\n",
    "```\n",
    "['h','e','l','l','o']\n",
    "```"
   ]
  },
  {
   "cell_type": "code",
   "execution_count": null,
   "id": "RtuvzGP7fyVc",
   "metadata": {
    "colab": {
     "base_uri": "https://localhost:8080/"
    },
    "id": "RtuvzGP7fyVc",
    "outputId": "a60e97c6-93e5-45a3-80bc-0d81f38f4919"
   },
   "outputs": [
    {
     "name": "stdout",
     "output_type": "stream",
     "text": [
      "['h', 'e', 'l', 'l', 'o']\n"
     ]
    }
   ],
   "source": [
    "# write your code here\n",
    "my_lsit = \"hello\"\n",
    "print(list(my_lsit))"
   ]
  },
  {
   "cell_type": "markdown",
   "id": "7h2II8C9fyVc",
   "metadata": {
    "id": "7h2II8C9fyVc"
   },
   "source": [
    "### List Q26\n",
    "\n",
    "**Problem:** Multiply all items in a list using a loop.\n",
    "\n",
    "**Expected answer should look like (example):**\n",
    "```\n",
    "product_value\n",
    "```"
   ]
  },
  {
   "cell_type": "code",
   "execution_count": null,
   "id": "JvKxVBchfyVc",
   "metadata": {
    "colab": {
     "base_uri": "https://localhost:8080/"
    },
    "id": "JvKxVBchfyVc",
    "outputId": "e6d4bfff-7f90-4bad-e5d9-a82c91202122"
   },
   "outputs": [
    {
     "name": "stdout",
     "output_type": "stream",
     "text": [
      "120\n"
     ]
    }
   ],
   "source": [
    "# write your code here\n",
    "list1 = [1,2,3,4,5]\n",
    "product = 1\n",
    "for item in list1:\n",
    "  product *= item\n",
    "print(product)"
   ]
  },
  {
   "cell_type": "markdown",
   "id": "Na-zJ1YdfyVc",
   "metadata": {
    "id": "Na-zJ1YdfyVc"
   },
   "source": [
    "### List Q27\n",
    "\n",
    "**Problem:** Sort a list of numbers in ascending order.\n",
    "\n",
    "**Expected answer should look like (example):**\n",
    "```\n",
    "[sorted numbers asc]\n",
    "```"
   ]
  },
  {
   "cell_type": "code",
   "execution_count": null,
   "id": "DFe5IEEAfyVc",
   "metadata": {
    "colab": {
     "base_uri": "https://localhost:8080/"
    },
    "id": "DFe5IEEAfyVc",
    "outputId": "0fcdcdbb-f65b-4a74-baf8-0207aafa4d66"
   },
   "outputs": [
    {
     "name": "stdout",
     "output_type": "stream",
     "text": [
      "[1, 2, 3, 4, 5, 6, 7, 8, 9, 10]\n"
     ]
    }
   ],
   "source": [
    "# write your code here\n",
    "list1 = [10,9,8,7,6,5,4,3,2,1]\n",
    "print(sorted(list1))"
   ]
  },
  {
   "cell_type": "markdown",
   "id": "qZW5tg5rfyVc",
   "metadata": {
    "id": "qZW5tg5rfyVc"
   },
   "source": [
    "### List Q28\n",
    "\n",
    "**Problem:** Clear all elements from a list using `clear()`.\n",
    "\n",
    "**Expected answer should look like (example):**\n",
    "```\n",
    "[]\n",
    "```"
   ]
  },
  {
   "cell_type": "code",
   "execution_count": null,
   "id": "jso3gUtvfyVc",
   "metadata": {
    "colab": {
     "base_uri": "https://localhost:8080/"
    },
    "id": "jso3gUtvfyVc",
    "outputId": "6ddabe43-c867-48f9-a7ec-5e1c03ec456b"
   },
   "outputs": [
    {
     "name": "stdout",
     "output_type": "stream",
     "text": [
      "[]\n"
     ]
    }
   ],
   "source": [
    "# write your code here\n",
    "my_list = [1,2,3,4,5,6,7,8,9,10]\n",
    "my_list.clear()\n",
    "print(my_list)"
   ]
  },
  {
   "cell_type": "markdown",
   "id": "G751txAVfyVc",
   "metadata": {
    "id": "G751txAVfyVc"
   },
   "source": [
    "### List Q29\n",
    "\n",
    "**Problem:** Use a `while` loop to iterate through a list.\n",
    "\n",
    "**Expected answer should look like (example):**\n",
    "```\n",
    "each element printed/processed\n",
    "```"
   ]
  },
  {
   "cell_type": "code",
   "execution_count": null,
   "id": "VVnSkIvPfyVd",
   "metadata": {
    "colab": {
     "base_uri": "https://localhost:8080/"
    },
    "id": "VVnSkIvPfyVd",
    "outputId": "6a252616-3e25-48e2-da5f-d5971c44ab76"
   },
   "outputs": [
    {
     "name": "stdout",
     "output_type": "stream",
     "text": [
      "1\n",
      "2\n",
      "3\n",
      "4\n",
      "5\n",
      "6\n",
      "7\n",
      "8\n",
      "9\n",
      "10\n"
     ]
    }
   ],
   "source": [
    "# write your code here\n",
    "my_list = [1,2,3,4,5,6,7,8,9,10]\n",
    "index = 0\n",
    "while index < len(my_list):\n",
    "  print(my_list[index])\n",
    "  index += 1"
   ]
  },
  {
   "cell_type": "markdown",
   "id": "cduQw_jHfyVd",
   "metadata": {
    "id": "cduQw_jHfyVd"
   },
   "source": [
    "### List Q30\n",
    "\n",
    "**Problem:** Use a `for` loop with `enumerate()` to print index and value.\n",
    "\n",
    "**Expected answer should look like (example):**\n",
    "```\n",
    "index: value\n",
    "```"
   ]
  },
  {
   "cell_type": "code",
   "execution_count": null,
   "id": "oeZBqKEOfyVd",
   "metadata": {
    "colab": {
     "base_uri": "https://localhost:8080/"
    },
    "id": "oeZBqKEOfyVd",
    "outputId": "c2c4d567-d1b5-462a-8ce6-f67390d89f7a"
   },
   "outputs": [
    {
     "name": "stdout",
     "output_type": "stream",
     "text": [
      "0 1\n",
      "1 2\n",
      "2 3\n",
      "3 4\n",
      "4 5\n",
      "5 6\n",
      "6 7\n",
      "7 8\n",
      "8 9\n",
      "9 10\n"
     ]
    }
   ],
   "source": [
    "# write your code here\n",
    "\n",
    "my_list = [1,2,3,4,5,6,7,8,9,10]\n",
    "for index,value in enumerate(my_list):\n",
    "  print(index,value)"
   ]
  },
  {
   "cell_type": "markdown",
   "id": "zFd9UtnbfyVd",
   "metadata": {
    "id": "zFd9UtnbfyVd"
   },
   "source": [
    "### List Q31\n",
    "\n",
    "**Problem:** Find the index of an element in a list using `index()`.\n",
    "\n",
    "**Expected answer should look like (example):**\n",
    "```\n",
    "integer_index\n",
    "```"
   ]
  },
  {
   "cell_type": "code",
   "execution_count": null,
   "id": "cPlSAo-8fyVd",
   "metadata": {
    "colab": {
     "base_uri": "https://localhost:8080/"
    },
    "id": "cPlSAo-8fyVd",
    "outputId": "fabfde1b-600e-40ec-9bb4-cfc50984edf9"
   },
   "outputs": [
    {
     "name": "stdout",
     "output_type": "stream",
     "text": [
      "5\n"
     ]
    }
   ],
   "source": [
    "# write your code here\n",
    "my_list = [1,2,3,4,5,6,7,8,9,10]\n",
    "print(my_list.index(6))"
   ]
  },
  {
   "cell_type": "markdown",
   "id": "gbu56yUMfyVd",
   "metadata": {
    "id": "gbu56yUMfyVd"
   },
   "source": [
    "### Tuples Q1\n",
    "\n",
    "**Problem:** Create a tuple with elements from 1 to 5.\n",
    "\n",
    "**Expected answer should look like (example):**\n",
    "```\n",
    "(1, 2, 3, 4, 5)\n",
    "```"
   ]
  },
  {
   "cell_type": "code",
   "execution_count": null,
   "id": "eO6CeCapfyVd",
   "metadata": {
    "colab": {
     "base_uri": "https://localhost:8080/"
    },
    "id": "eO6CeCapfyVd",
    "outputId": "ad905a54-f1cd-4620-90e7-b11e4d4197e3"
   },
   "outputs": [
    {
     "name": "stdout",
     "output_type": "stream",
     "text": [
      "(1, 2, 3, 4, 5)\n"
     ]
    }
   ],
   "source": [
    "# write your code here\n",
    "tuple = (1,2,3,4,5)\n",
    "print(tuple)"
   ]
  },
  {
   "cell_type": "markdown",
   "id": "bL2uXcsyfyVd",
   "metadata": {
    "id": "bL2uXcsyfyVd"
   },
   "source": [
    "### Tuples Q2\n",
    "\n",
    "**Problem:** Access the third element in a tuple.\n",
    "\n",
    "**Expected answer should look like (example):**\n",
    "```\n",
    "value_at_index_2\n",
    "```"
   ]
  },
  {
   "cell_type": "code",
   "execution_count": null,
   "id": "CcmxEwb5fyVd",
   "metadata": {
    "colab": {
     "base_uri": "https://localhost:8080/"
    },
    "id": "CcmxEwb5fyVd",
    "outputId": "1960c8c2-93ec-44c0-92cd-ccbb628a41a3"
   },
   "outputs": [
    {
     "name": "stdout",
     "output_type": "stream",
     "text": [
      "3\n"
     ]
    }
   ],
   "source": [
    "# write your code here\n",
    "tuple1 = (1,2,3,4,5)\n",
    "print(tuple1[2])"
   ]
  },
  {
   "cell_type": "markdown",
   "id": "yVfJnjdIfyVd",
   "metadata": {
    "id": "yVfJnjdIfyVd"
   },
   "source": [
    "### Tuples Q3\n",
    "\n",
    "**Problem:** Slice a tuple to get the last 3 elements.\n",
    "\n",
    "**Expected answer should look like (example):**\n",
    "```\n",
    "(last3,)\n",
    "```"
   ]
  },
  {
   "cell_type": "code",
   "execution_count": null,
   "id": "_Flfm1X0fyVd",
   "metadata": {
    "colab": {
     "base_uri": "https://localhost:8080/"
    },
    "id": "_Flfm1X0fyVd",
    "outputId": "4addc626-fe7e-488a-c3ea-d3bc82a7b124"
   },
   "outputs": [
    {
     "name": "stdout",
     "output_type": "stream",
     "text": [
      "(8, 9, 10)\n"
     ]
    }
   ],
   "source": [
    "# write your code here\n",
    "my_tuple = (1,2,3,4,5,6,7,8,9,10)\n",
    "print(my_tuple[-3:])"
   ]
  },
  {
   "cell_type": "markdown",
   "id": "qWC68fe8fyVd",
   "metadata": {
    "id": "qWC68fe8fyVd"
   },
   "source": [
    "### Tuples Q4\n",
    "\n",
    "**Problem:** Check if an element exists in a tuple using `in`.\n",
    "\n",
    "**Expected answer should look like (example):**\n",
    "```\n",
    "True/False\n",
    "```"
   ]
  },
  {
   "cell_type": "code",
   "execution_count": null,
   "id": "LBZY1QqbfyVd",
   "metadata": {
    "colab": {
     "base_uri": "https://localhost:8080/"
    },
    "id": "LBZY1QqbfyVd",
    "outputId": "093588ec-9cd2-4425-c513-5b87fb1dd4dc"
   },
   "outputs": [
    {
     "name": "stdout",
     "output_type": "stream",
     "text": [
      "True\n"
     ]
    }
   ],
   "source": [
    "# write your code here\n",
    "my_tuple = (1,2,3,4,5,6,7,8,9,10)\n",
    "print(4 in my_tuple)"
   ]
  },
  {
   "cell_type": "markdown",
   "id": "MHDJ8V3pfyVe",
   "metadata": {
    "id": "MHDJ8V3pfyVe"
   },
   "source": [
    "### Tuples Q5\n",
    "\n",
    "**Problem:** Find the index of an element in a tuple.\n",
    "\n",
    "**Expected answer should look like (example):**\n",
    "```\n",
    "integer_index\n",
    "```"
   ]
  },
  {
   "cell_type": "code",
   "execution_count": null,
   "id": "lIuu_klOfyVe",
   "metadata": {
    "colab": {
     "base_uri": "https://localhost:8080/"
    },
    "id": "lIuu_klOfyVe",
    "outputId": "9ebc82a2-1669-491a-da95-80d1365d536b"
   },
   "outputs": [
    {
     "name": "stdout",
     "output_type": "stream",
     "text": [
      "3\n"
     ]
    }
   ],
   "source": [
    "# write your code here\n",
    "my_tuple = (1,2,3,4,5,6,7,8,9,10)\n",
    "print(my_tuple.index(4))"
   ]
  },
  {
   "cell_type": "markdown",
   "id": "qdDgmuL3fyVe",
   "metadata": {
    "id": "qdDgmuL3fyVe"
   },
   "source": [
    "### Tuples Q6\n",
    "\n",
    "**Problem:** Count the occurrences of an element in a tuple.\n",
    "\n",
    "**Expected answer should look like (example):**\n",
    "```\n",
    "count_value\n",
    "```"
   ]
  },
  {
   "cell_type": "code",
   "execution_count": null,
   "id": "ZKBvIlJzfyVe",
   "metadata": {
    "colab": {
     "base_uri": "https://localhost:8080/"
    },
    "id": "ZKBvIlJzfyVe",
    "outputId": "834a40a3-74b3-4ec7-ec69-5be3edf37425"
   },
   "outputs": [
    {
     "name": "stdout",
     "output_type": "stream",
     "text": [
      "2\n"
     ]
    }
   ],
   "source": [
    "# write your code here\n",
    "my_tuple = (1,2,3,4,5,6,7,8,9,10,7)\n",
    "print(my_tuple.count(7))\n"
   ]
  },
  {
   "cell_type": "markdown",
   "id": "FphgWkIKfyVe",
   "metadata": {
    "id": "FphgWkIKfyVe"
   },
   "source": [
    "### Tuples Q7\n",
    "\n",
    "**Problem:** Create a nested tuple and access an element from it.\n",
    "\n",
    "**Expected answer should look like (example):**\n",
    "```\n",
    "nested_value\n",
    "```"
   ]
  },
  {
   "cell_type": "code",
   "execution_count": null,
   "id": "HnvdVBUNfyVe",
   "metadata": {
    "colab": {
     "base_uri": "https://localhost:8080/"
    },
    "id": "HnvdVBUNfyVe",
    "outputId": "e3e20807-9621-449d-94b7-a97f6631c035"
   },
   "outputs": [
    {
     "name": "stdout",
     "output_type": "stream",
     "text": [
      "6\n"
     ]
    }
   ],
   "source": [
    "# write your code here\n",
    "tuple1 = ((1,2,3),(4,5,6),(7,8,9))\n",
    "print(tuple1[1][2])"
   ]
  },
  {
   "cell_type": "markdown",
   "id": "cJGrrJa3fyVe",
   "metadata": {
    "id": "cJGrrJa3fyVe"
   },
   "source": [
    "### Tuples Q8\n",
    "\n",
    "**Problem:** Check if two tuples are equal.\n",
    "\n",
    "**Expected answer should look like (example):**\n",
    "```\n",
    "True/False\n",
    "```"
   ]
  },
  {
   "cell_type": "code",
   "execution_count": null,
   "id": "yrtoIoESfyVe",
   "metadata": {
    "colab": {
     "base_uri": "https://localhost:8080/"
    },
    "id": "yrtoIoESfyVe",
    "outputId": "cf5f2373-e410-40b8-d95a-05bd2a448561"
   },
   "outputs": [
    {
     "name": "stdout",
     "output_type": "stream",
     "text": [
      "False\n"
     ]
    }
   ],
   "source": [
    "# write your code here\n",
    "tuple1 = (1,2,3,4,5,6,7)\n",
    "tuple2 = (1,2,3,4,5)\n",
    "print(tuple1 == tuple2)"
   ]
  },
  {
   "cell_type": "markdown",
   "id": "-LNfyhfEfyVe",
   "metadata": {
    "id": "-LNfyhfEfyVe"
   },
   "source": [
    "### Tuples Q9\n",
    "\n",
    "**Problem:** Convert a list to a tuple.\n",
    "\n",
    "**Expected answer should look like (example):**\n",
    "```\n",
    "tuple(list)\n",
    "```"
   ]
  },
  {
   "cell_type": "code",
   "execution_count": null,
   "id": "qVjr5RJFfyVe",
   "metadata": {
    "colab": {
     "base_uri": "https://localhost:8080/",
     "height": 196
    },
    "id": "qVjr5RJFfyVe",
    "outputId": "c1935f0b-f551-4001-d68e-f561271a2c7d"
   },
   "outputs": [
    {
     "ename": "TypeError",
     "evalue": "'tuple' object is not callable",
     "output_type": "error",
     "traceback": [
      "\u001b[0;31m---------------------------------------------------------------------------\u001b[0m",
      "\u001b[0;31mTypeError\u001b[0m                                 Traceback (most recent call last)",
      "\u001b[0;32m/tmp/ipython-input-3164353286.py\u001b[0m in \u001b[0;36m<cell line: 0>\u001b[0;34m()\u001b[0m\n\u001b[1;32m      1\u001b[0m \u001b[0;31m# write your code here\u001b[0m\u001b[0;34m\u001b[0m\u001b[0;34m\u001b[0m\u001b[0m\n\u001b[1;32m      2\u001b[0m \u001b[0mmy_list\u001b[0m \u001b[0;34m=\u001b[0m \u001b[0;34m[\u001b[0m\u001b[0;36m1\u001b[0m\u001b[0;34m,\u001b[0m\u001b[0;36m2\u001b[0m\u001b[0;34m,\u001b[0m\u001b[0;36m3\u001b[0m\u001b[0;34m,\u001b[0m\u001b[0;36m4\u001b[0m\u001b[0;34m,\u001b[0m\u001b[0;36m5\u001b[0m\u001b[0;34m,\u001b[0m\u001b[0;36m6\u001b[0m\u001b[0;34m,\u001b[0m\u001b[0;36m7\u001b[0m\u001b[0;34m,\u001b[0m\u001b[0;36m8\u001b[0m\u001b[0;34m,\u001b[0m\u001b[0;36m9\u001b[0m\u001b[0;34m,\u001b[0m\u001b[0;36m10\u001b[0m\u001b[0;34m,\u001b[0m\u001b[0;36m11\u001b[0m\u001b[0;34m]\u001b[0m\u001b[0;34m\u001b[0m\u001b[0;34m\u001b[0m\u001b[0m\n\u001b[0;32m----> 3\u001b[0;31m \u001b[0mmy_tuple\u001b[0m \u001b[0;34m=\u001b[0m \u001b[0mtuple\u001b[0m\u001b[0;34m(\u001b[0m\u001b[0mmy_list\u001b[0m\u001b[0;34m)\u001b[0m\u001b[0;34m\u001b[0m\u001b[0;34m\u001b[0m\u001b[0m\n\u001b[0m\u001b[1;32m      4\u001b[0m \u001b[0mprint\u001b[0m\u001b[0;34m(\u001b[0m\u001b[0mmy_tuple\u001b[0m\u001b[0;34m)\u001b[0m\u001b[0;34m\u001b[0m\u001b[0;34m\u001b[0m\u001b[0m\n",
      "\u001b[0;31mTypeError\u001b[0m: 'tuple' object is not callable"
     ]
    }
   ],
   "source": [
    "# write your code here\n",
    "my_list = [1,2,3,4,5,6,7,8,9,10,11]\n",
    "my_tuple = tuple(my_list)\n",
    "print(my_tuple)"
   ]
  },
  {
   "cell_type": "markdown",
   "id": "2z6vK3lcfyVe",
   "metadata": {
    "id": "2z6vK3lcfyVe"
   },
   "source": [
    "### Tuples Q10\n",
    "\n",
    "**Problem:** Create a tuple of integers and find its sum.\n",
    "\n",
    "**Expected answer should look like (example):**\n",
    "```\n",
    "sum_value\n",
    "```"
   ]
  },
  {
   "cell_type": "code",
   "execution_count": null,
   "id": "2wvATIXwfyVe",
   "metadata": {
    "colab": {
     "base_uri": "https://localhost:8080/"
    },
    "id": "2wvATIXwfyVe",
    "outputId": "e25ace97-eb2b-428f-d6e3-46d6ff51f19a"
   },
   "outputs": [
    {
     "name": "stdout",
     "output_type": "stream",
     "text": [
      "55\n"
     ]
    }
   ],
   "source": [
    "# write your code here\n",
    "my_tuple = (1,2,3,4,5,6,7,8,9,10)\n",
    "print(sum(my_tuple))\n"
   ]
  },
  {
   "cell_type": "markdown",
   "id": "AL5_V1DRfyVe",
   "metadata": {
    "id": "AL5_V1DRfyVe"
   },
   "source": [
    "### Tuples Q11\n",
    "\n",
    "**Problem:** Create a tuple using the `tuple()` constructor.\n",
    "\n",
    "**Expected answer should look like (example):**\n",
    "```\n",
    "tuple_from_iterable\n",
    "```"
   ]
  },
  {
   "cell_type": "code",
   "execution_count": null,
   "id": "J3H2rnqifyVf",
   "metadata": {
    "colab": {
     "base_uri": "https://localhost:8080/",
     "height": 196
    },
    "id": "J3H2rnqifyVf",
    "outputId": "9d2781bd-a2ba-4083-bed5-16b52c0f4a9b"
   },
   "outputs": [
    {
     "ename": "TypeError",
     "evalue": "'tuple' object is not callable",
     "output_type": "error",
     "traceback": [
      "\u001b[0;31m---------------------------------------------------------------------------\u001b[0m",
      "\u001b[0;31mTypeError\u001b[0m                                 Traceback (most recent call last)",
      "\u001b[0;32m/tmp/ipython-input-1055217840.py\u001b[0m in \u001b[0;36m<cell line: 0>\u001b[0;34m()\u001b[0m\n\u001b[1;32m      1\u001b[0m \u001b[0;31m# write your code here\u001b[0m\u001b[0;34m\u001b[0m\u001b[0;34m\u001b[0m\u001b[0m\n\u001b[1;32m      2\u001b[0m \u001b[0mmy_list\u001b[0m \u001b[0;34m=\u001b[0m \u001b[0;34m[\u001b[0m\u001b[0;36m1\u001b[0m\u001b[0;34m,\u001b[0m\u001b[0;36m2\u001b[0m\u001b[0;34m,\u001b[0m\u001b[0;36m3\u001b[0m\u001b[0;34m,\u001b[0m\u001b[0;36m4\u001b[0m\u001b[0;34m,\u001b[0m\u001b[0;36m5\u001b[0m\u001b[0;34m,\u001b[0m\u001b[0;36m6\u001b[0m\u001b[0;34m,\u001b[0m\u001b[0;36m7\u001b[0m\u001b[0;34m,\u001b[0m\u001b[0;36m8\u001b[0m\u001b[0;34m,\u001b[0m\u001b[0;36m9\u001b[0m\u001b[0;34m,\u001b[0m\u001b[0;36m10\u001b[0m\u001b[0;34m]\u001b[0m\u001b[0;34m\u001b[0m\u001b[0;34m\u001b[0m\u001b[0m\n\u001b[0;32m----> 3\u001b[0;31m \u001b[0mmy_tuple\u001b[0m \u001b[0;34m=\u001b[0m \u001b[0mtuple\u001b[0m\u001b[0;34m(\u001b[0m\u001b[0mmy_list\u001b[0m\u001b[0;34m)\u001b[0m\u001b[0;34m\u001b[0m\u001b[0;34m\u001b[0m\u001b[0m\n\u001b[0m\u001b[1;32m      4\u001b[0m \u001b[0mprint\u001b[0m\u001b[0;34m(\u001b[0m\u001b[0mmy_tuple\u001b[0m\u001b[0;34m)\u001b[0m\u001b[0;34m\u001b[0m\u001b[0;34m\u001b[0m\u001b[0m\n",
      "\u001b[0;31mTypeError\u001b[0m: 'tuple' object is not callable"
     ]
    }
   ],
   "source": [
    "# write your code here\n",
    "my_list = [1,2,3,4,5,6,7,8,9,10]\n",
    "my_tuple = tuple(my_list)\n",
    "print(my_tuple)"
   ]
  },
  {
   "cell_type": "markdown",
   "id": "UZHJ8sV2fyVf",
   "metadata": {
    "id": "UZHJ8sV2fyVf"
   },
   "source": [
    "### Tuples Q12\n",
    "\n",
    "**Problem:** Use a `for` loop to iterate through a tuple.\n",
    "\n",
    "**Expected answer should look like (example):**\n",
    "```\n",
    "elements printed/processed\n",
    "```"
   ]
  },
  {
   "cell_type": "code",
   "execution_count": null,
   "id": "hWTzzxbQfyVf",
   "metadata": {
    "colab": {
     "base_uri": "https://localhost:8080/"
    },
    "id": "hWTzzxbQfyVf",
    "outputId": "d446994e-b19a-4880-c4d2-c6d5922ddf52"
   },
   "outputs": [
    {
     "name": "stdout",
     "output_type": "stream",
     "text": [
      "1\n",
      "2\n",
      "3\n",
      "4\n",
      "5\n",
      "6\n",
      "7\n",
      "8\n",
      "9\n",
      "10\n"
     ]
    }
   ],
   "source": [
    "# write your code here\n",
    "my_tuple = (1,2,3,4,5,6,7,8,9,10)\n",
    "for item in my_tuple:\n",
    "  print(item)"
   ]
  },
  {
   "cell_type": "markdown",
   "id": "DrMe5TzIfyVf",
   "metadata": {
    "id": "DrMe5TzIfyVf"
   },
   "source": [
    "### Tuples Q13\n",
    "\n",
    "**Problem:** Try modifying a tuple element and handle the error.\n",
    "\n",
    "**Expected answer should look like (example):**\n",
    "```\n",
    "TypeError handled\n",
    "```"
   ]
  },
  {
   "cell_type": "code",
   "execution_count": 1,
   "id": "lKiryIUUfyVf",
   "metadata": {
    "colab": {
     "base_uri": "https://localhost:8080/",
     "height": 178
    },
    "id": "lKiryIUUfyVf",
    "outputId": "149d72c6-4bfb-454f-e463-97ff48a888b3"
   },
   "outputs": [
    {
     "ename": "TypeError",
     "evalue": "'tuple' object does not support item assignment",
     "output_type": "error",
     "traceback": [
      "\u001b[1;31m---------------------------------------------------------------------------\u001b[0m",
      "\u001b[1;31mTypeError\u001b[0m                                 Traceback (most recent call last)",
      "Cell \u001b[1;32mIn[1], line 3\u001b[0m\n\u001b[0;32m      1\u001b[0m \u001b[38;5;66;03m# write your code here\u001b[39;00m\n\u001b[0;32m      2\u001b[0m my_tuple \u001b[38;5;241m=\u001b[39m (\u001b[38;5;241m1\u001b[39m,\u001b[38;5;241m2\u001b[39m,\u001b[38;5;241m3\u001b[39m,\u001b[38;5;241m4\u001b[39m,\u001b[38;5;241m5\u001b[39m,\u001b[38;5;241m6\u001b[39m,\u001b[38;5;241m7\u001b[39m,\u001b[38;5;241m8\u001b[39m,\u001b[38;5;241m9\u001b[39m,\u001b[38;5;241m10\u001b[39m)\n\u001b[1;32m----> 3\u001b[0m my_tuple[\u001b[38;5;241m0\u001b[39m] \u001b[38;5;241m=\u001b[39m \u001b[38;5;241m11\u001b[39m\n",
      "\u001b[1;31mTypeError\u001b[0m: 'tuple' object does not support item assignment"
     ]
    }
   ],
   "source": [
    "# write your code here\n",
    "my_tuple = (1,2,3,4,5,6,7,8,9,10)\n",
    "my_tuple[0] = 11"
   ]
  },
  {
   "cell_type": "markdown",
   "id": "YhvKphyXfyVf",
   "metadata": {
    "id": "YhvKphyXfyVf"
   },
   "source": [
    "### Tuples Q14\n",
    "\n",
    "**Problem:** Unpack a tuple into individual variables.\n",
    "\n",
    "**Expected answer should look like (example):**\n",
    "```\n",
    "a b c ... assigned\n",
    "```"
   ]
  },
  {
   "cell_type": "code",
   "execution_count": null,
   "id": "OWtwQmw3fyVf",
   "metadata": {
    "colab": {
     "base_uri": "https://localhost:8080/"
    },
    "id": "OWtwQmw3fyVf",
    "outputId": "98ffef4f-5c8a-4505-ec7f-b30ed7acabc4"
   },
   "outputs": [
    {
     "name": "stdout",
     "output_type": "stream",
     "text": [
      "a = 10\n",
      "b = 20\n",
      "c = 30\n"
     ]
    }
   ],
   "source": [
    "# write your code here\n",
    "my_tuple = (10, 20, 30)\n",
    "a, b, c = my_tuple\n",
    "print(\"a =\", a)\n",
    "print(\"b =\", b)\n",
    "print(\"c =\", c)\n"
   ]
  },
  {
   "cell_type": "markdown",
   "id": "MkF0atcFfyVf",
   "metadata": {
    "id": "MkF0atcFfyVf"
   },
   "source": [
    "### Tuples Q15\n",
    "\n",
    "**Problem:** Use a tuple inside a dictionary as a key.\n",
    "\n",
    "**Expected answer should look like (example):**\n",
    "```\n",
    "{(1,2): 'value'}\n",
    "```"
   ]
  },
  {
   "cell_type": "code",
   "execution_count": null,
   "id": "6C4iwP6ZfyVf",
   "metadata": {
    "colab": {
     "base_uri": "https://localhost:8080/"
    },
    "id": "6C4iwP6ZfyVf",
    "outputId": "fccc9d56-78b7-4a0d-ab8a-9a620dabbd2f"
   },
   "outputs": [
    {
     "name": "stdout",
     "output_type": "stream",
     "text": [
      "{(1, 2): 'value'}\n"
     ]
    }
   ],
   "source": [
    "# write your code here\n",
    "my_dict = {(1,2):\"value\"}\n",
    "print(my_dict)"
   ]
  },
  {
   "cell_type": "markdown",
   "id": "oqBDYfK6fyVf",
   "metadata": {
    "id": "oqBDYfK6fyVf"
   },
   "source": [
    "### Tuples Q16\n",
    "\n",
    "**Problem:** Find the length of a tuple using `len()`.\n",
    "\n",
    "**Expected answer should look like (example):**\n",
    "```\n",
    "length_value\n",
    "```"
   ]
  },
  {
   "cell_type": "code",
   "execution_count": null,
   "id": "fcp9Leg2fyVf",
   "metadata": {
    "colab": {
     "base_uri": "https://localhost:8080/"
    },
    "id": "fcp9Leg2fyVf",
    "outputId": "bea160e2-eb84-42fc-a8ff-015d8fba08b1"
   },
   "outputs": [
    {
     "name": "stdout",
     "output_type": "stream",
     "text": [
      "10\n"
     ]
    }
   ],
   "source": [
    "# write your code here\n",
    "my_tuple = (1,2,3,4,5,6,7,8,9,10)\n",
    "print(len(my_tuple))"
   ]
  },
  {
   "cell_type": "markdown",
   "id": "azW0Z5FRfyVf",
   "metadata": {
    "id": "azW0Z5FRfyVf"
   },
   "source": [
    "### Tuples Q17\n",
    "\n",
    "**Problem:** Compare two tuples using relational operators.\n",
    "\n",
    "**Expected answer should look like (example):**\n",
    "```\n",
    "True/False based on lexicographic\n",
    "```"
   ]
  },
  {
   "cell_type": "code",
   "execution_count": null,
   "id": "DxFDZ_FPfyVg",
   "metadata": {
    "colab": {
     "base_uri": "https://localhost:8080/"
    },
    "id": "DxFDZ_FPfyVg",
    "outputId": "b3fd9603-2557-48bb-f24e-1c6bda69d8e8"
   },
   "outputs": [
    {
     "name": "stdout",
     "output_type": "stream",
     "text": [
      "False\n"
     ]
    }
   ],
   "source": [
    "# write your code here\n",
    "tuple1 = (1,2,3,4,5,6)\n",
    "tuple2 = (7,8,9,10)\n",
    "print(tuple1 < tuple1)"
   ]
  },
  {
   "cell_type": "markdown",
   "id": "vyvlq4bWfyVg",
   "metadata": {
    "id": "vyvlq4bWfyVg"
   },
   "source": [
    "### Tuples Q18\n",
    "\n",
    "**Problem:** Use `max()` and `min()` with a tuple.\n",
    "\n",
    "**Expected answer should look like (example):**\n",
    "```\n",
    "max_value, min_value\n",
    "```"
   ]
  },
  {
   "cell_type": "code",
   "execution_count": null,
   "id": "62KgdnSAfyVg",
   "metadata": {
    "colab": {
     "base_uri": "https://localhost:8080/"
    },
    "id": "62KgdnSAfyVg",
    "outputId": "b655a2ab-e40a-4b36-edad-45a224596e23"
   },
   "outputs": [
    {
     "name": "stdout",
     "output_type": "stream",
     "text": [
      "10\n",
      "1\n"
     ]
    }
   ],
   "source": [
    "# write your code here\n",
    "my_tuple = (1,2,3,4,5,6,7,8,9,10)\n",
    "print(max(my_tuple))\n",
    "print(min(my_tuple))"
   ]
  },
  {
   "cell_type": "markdown",
   "id": "HEENKlfkfyVg",
   "metadata": {
    "id": "HEENKlfkfyVg"
   },
   "source": [
    "### Tuples Q19\n",
    "\n",
    "**Problem:** Use a tuple inside another tuple and access nested values.\n",
    "\n",
    "**Expected answer should look like (example):**\n",
    "```\n",
    "nested_value\n",
    "```"
   ]
  },
  {
   "cell_type": "code",
   "execution_count": null,
   "id": "URl8HuYFfyVg",
   "metadata": {
    "colab": {
     "base_uri": "https://localhost:8080/"
    },
    "id": "URl8HuYFfyVg",
    "outputId": "a41f203c-4631-43df-c6fe-bfd83d514a99"
   },
   "outputs": [
    {
     "name": "stdout",
     "output_type": "stream",
     "text": [
      "5\n"
     ]
    }
   ],
   "source": [
    "# write your code here\n",
    "my_tuple = ((1,2,3),(4,5,6),(7,8,9))\n",
    "print(my_tuple[1][1])"
   ]
  },
  {
   "cell_type": "markdown",
   "id": "UzcLW_RPfyVg",
   "metadata": {
    "id": "UzcLW_RPfyVg"
   },
   "source": [
    "### Tuples Q20\n",
    "\n",
    "**Problem:** Check the memory size of a tuple versus a list using `sys.getsizeof()`.\n",
    "\n",
    "**Expected answer should look like (example):**\n",
    "```\n",
    "e.g., tuple_size < list_size (often)\n",
    "```"
   ]
  },
  {
   "cell_type": "code",
   "execution_count": null,
   "id": "3CBhEviofyVg",
   "metadata": {
    "colab": {
     "base_uri": "https://localhost:8080/"
    },
    "id": "3CBhEviofyVg",
    "outputId": "e41986fc-5779-4743-f016-815762f3c2e6"
   },
   "outputs": [
    {
     "name": "stdout",
     "output_type": "stream",
     "text": [
      "List size: 104 bytes\n",
      "Tuple size: 80 bytes\n"
     ]
    }
   ],
   "source": [
    "# write your code here\n",
    "import sys\n",
    "\n",
    "# Given list and tuple\n",
    "my_list = [1, 2, 3, 4, 5]\n",
    "my_tuple = (1, 2, 3, 4, 5)\n",
    "\n",
    "# Check memory size\n",
    "list_size = sys.getsizeof(my_list)\n",
    "tuple_size = sys.getsizeof(my_tuple)\n",
    "\n",
    "# Print sizes\n",
    "print(\"List size:\", list_size, \"bytes\")\n",
    "print(\"Tuple size:\", tuple_size, \"bytes\")\n"
   ]
  },
  {
   "cell_type": "markdown",
   "id": "fd4yFydZfyVg",
   "metadata": {
    "id": "fd4yFydZfyVg"
   },
   "source": [
    "### Sets Q1\n",
    "\n",
    "**Problem:** Create a set with integers from 10 to 15.\n",
    "\n",
    "**Expected answer should look like (example):**\n",
    "```\n",
    "{10, 11, 12, 13, 14, 15} (order may vary)\n",
    "```"
   ]
  },
  {
   "cell_type": "code",
   "execution_count": null,
   "id": "5qqGXfs0fyVg",
   "metadata": {
    "colab": {
     "base_uri": "https://localhost:8080/"
    },
    "id": "5qqGXfs0fyVg",
    "outputId": "9bdb808b-f129-4f60-b22b-ef006846e635"
   },
   "outputs": [
    {
     "name": "stdout",
     "output_type": "stream",
     "text": [
      "{10, 11, 12, 13, 14, 15}\n"
     ]
    }
   ],
   "source": [
    "# write your code here\n",
    "my_set = {10,11,12,13,14,15,15}\n",
    "print(my_set)"
   ]
  },
  {
   "cell_type": "markdown",
   "id": "0iSowp2CfyVg",
   "metadata": {
    "id": "0iSowp2CfyVg"
   },
   "source": [
    "### Sets Q2\n",
    "\n",
    "**Problem:** Add multiple elements to a set using `update()`.\n",
    "\n",
    "**Expected answer should look like (example):**\n",
    "```\n",
    "{...includes new elements...}\n",
    "```"
   ]
  },
  {
   "cell_type": "code",
   "execution_count": null,
   "id": "Z-upfIXtfyVg",
   "metadata": {
    "colab": {
     "base_uri": "https://localhost:8080/"
    },
    "id": "Z-upfIXtfyVg",
    "outputId": "fe643d0b-1a5f-4370-f753-f994631d7895"
   },
   "outputs": [
    {
     "name": "stdout",
     "output_type": "stream",
     "text": [
      "{1, 2, 3, 4, 5, 6, 7, 8, 9, 10}\n"
     ]
    }
   ],
   "source": [
    "# write your code here\n",
    "my_set = {1,2,3,4,5}\n",
    "my_set.update([6,7,8,9,10])\n",
    "print(my_set)"
   ]
  },
  {
   "cell_type": "markdown",
   "id": "zAaYvSjvfyVg",
   "metadata": {
    "id": "zAaYvSjvfyVg"
   },
   "source": [
    "### Sets Q3\n",
    "\n",
    "**Problem:** Check if a set is a subset of another set.\n",
    "\n",
    "**Expected answer should look like (example):**\n",
    "```\n",
    "True/False\n",
    "```"
   ]
  },
  {
   "cell_type": "code",
   "execution_count": null,
   "id": "XNQuqIzUfyVg",
   "metadata": {
    "colab": {
     "base_uri": "https://localhost:8080/"
    },
    "id": "XNQuqIzUfyVg",
    "outputId": "61836db7-86ca-4e1f-8c8e-9099e695e6b5"
   },
   "outputs": [
    {
     "name": "stdout",
     "output_type": "stream",
     "text": [
      "True\n"
     ]
    }
   ],
   "source": [
    "# write your code here\n",
    "set1 = {1,2,3,4,5}\n",
    "set2 = {1,2,3}\n",
    "print(set2.issubset(set1))"
   ]
  },
  {
   "cell_type": "markdown",
   "id": "c0GUHapUfyVg",
   "metadata": {
    "id": "c0GUHapUfyVg"
   },
   "source": [
    "### Sets Q4\n",
    "\n",
    "**Problem:** Check if a set is a superset of another set.\n",
    "\n",
    "**Expected answer should look like (example):**\n",
    "```\n",
    "True/False\n",
    "```"
   ]
  },
  {
   "cell_type": "code",
   "execution_count": null,
   "id": "OUKyM0_ufyVg",
   "metadata": {
    "colab": {
     "base_uri": "https://localhost:8080/"
    },
    "id": "OUKyM0_ufyVg",
    "outputId": "653f7771-01be-4de5-8559-1cac9c46eaa4"
   },
   "outputs": [
    {
     "name": "stdout",
     "output_type": "stream",
     "text": [
      "True\n"
     ]
    }
   ],
   "source": [
    "# write your code here\n",
    "set1 = {1, 2, 3, 4, 5}\n",
    "set2 = {2, 3, 4}\n",
    "\n",
    "print(set1.issuperset(set2))\n",
    "\n",
    "\n"
   ]
  },
  {
   "cell_type": "markdown",
   "id": "53FrXj6NfyVh",
   "metadata": {
    "id": "53FrXj6NfyVh"
   },
   "source": [
    "### Sets Q5\n",
    "\n",
    "**Problem:** Find the difference between two sets.\n",
    "\n",
    "**Expected answer should look like (example):**\n",
    "```\n",
    "A - B set\n",
    "```"
   ]
  },
  {
   "cell_type": "code",
   "execution_count": null,
   "id": "SbID0wZ3fyVh",
   "metadata": {
    "colab": {
     "base_uri": "https://localhost:8080/"
    },
    "id": "SbID0wZ3fyVh",
    "outputId": "89709603-d4b9-415d-cdc1-de01fd24af5a"
   },
   "outputs": [
    {
     "name": "stdout",
     "output_type": "stream",
     "text": [
      "{1, 2, 3}\n"
     ]
    }
   ],
   "source": [
    "# write your code here\n",
    "set1 = {1,2,3,4,5}\n",
    "set2 = {4,5,6,7,8}\n",
    "print(set1.difference(set2))\n"
   ]
  },
  {
   "cell_type": "markdown",
   "id": "iC-Pvc3TfyVh",
   "metadata": {
    "id": "iC-Pvc3TfyVh"
   },
   "source": [
    "### Sets Q6\n",
    "\n",
    "**Problem:** Create a set of multiples of 3 from 1 to 15.\n",
    "\n",
    "**Expected answer should look like (example):**\n",
    "```\n",
    "{3, 6, 9, 12, 15}\n",
    "```"
   ]
  },
  {
   "cell_type": "code",
   "execution_count": null,
   "id": "mgIRy9RvfyVh",
   "metadata": {
    "colab": {
     "base_uri": "https://localhost:8080/"
    },
    "id": "mgIRy9RvfyVh",
    "outputId": "f3a6b7cd-bf39-4f61-ba17-4ed02aa49c99"
   },
   "outputs": [
    {
     "name": "stdout",
     "output_type": "stream",
     "text": [
      "{3, 6, 9, 12, 15}\n"
     ]
    }
   ],
   "source": [
    "# write your code here\n",
    "multiples_of_3 = {x for x in range(1, 16) if x % 3 == 0}\n",
    "print(multiples_of_3)\n"
   ]
  },
  {
   "cell_type": "markdown",
   "id": "SwBOILWZfyVh",
   "metadata": {
    "id": "SwBOILWZfyVh"
   },
   "source": [
    "### Sets Q7\n",
    "\n",
    "**Problem:** Remove an element from a set using `discard()`.\n",
    "\n",
    "**Expected answer should look like (example):**\n",
    "```\n",
    "set without that element (no error if missing)\n",
    "```"
   ]
  },
  {
   "cell_type": "code",
   "execution_count": null,
   "id": "vHtkwEOgfyVh",
   "metadata": {
    "colab": {
     "base_uri": "https://localhost:8080/"
    },
    "id": "vHtkwEOgfyVh",
    "outputId": "9fd91f61-d200-4927-b988-6ce852d3dd04"
   },
   "outputs": [
    {
     "name": "stdout",
     "output_type": "stream",
     "text": [
      "{1, 2, 4, 5}\n"
     ]
    }
   ],
   "source": [
    "# write your code here\n",
    "my_set = {1, 2, 3, 4, 5}\n",
    "\n",
    "my_set.discard(3)\n",
    "\n",
    "print(my_set)\n"
   ]
  },
  {
   "cell_type": "markdown",
   "id": "0bIs5h7KfyVh",
   "metadata": {
    "id": "0bIs5h7KfyVh"
   },
   "source": [
    "### Sets Q8\n",
    "\n",
    "**Problem:** Check if a set is empty.\n",
    "\n",
    "**Expected answer should look like (example):**\n",
    "```\n",
    "True/False\n",
    "```"
   ]
  },
  {
   "cell_type": "code",
   "execution_count": null,
   "id": "ilBpbKVIfyVh",
   "metadata": {
    "colab": {
     "base_uri": "https://localhost:8080/"
    },
    "id": "ilBpbKVIfyVh",
    "outputId": "1c4a59e8-d55b-456e-c7d5-ba1be7c8de42"
   },
   "outputs": [
    {
     "name": "stdout",
     "output_type": "stream",
     "text": [
      "False\n"
     ]
    }
   ],
   "source": [
    "# write your code here\n",
    "my_set = (1,2,3,4)\n",
    "is_empty = len(my_set) == 0\n",
    "print(is_empty)\n"
   ]
  },
  {
   "cell_type": "markdown",
   "id": "Ob4hYWQGfyVh",
   "metadata": {
    "id": "Ob4hYWQGfyVh"
   },
   "source": [
    "### Sets Q9\n",
    "\n",
    "**Problem:** Find the maximum element in a set.\n",
    "\n",
    "**Expected answer should look like (example):**\n",
    "```\n",
    "max_value\n",
    "```"
   ]
  },
  {
   "cell_type": "code",
   "execution_count": null,
   "id": "b4bHmMIyfyVh",
   "metadata": {
    "colab": {
     "base_uri": "https://localhost:8080/"
    },
    "id": "b4bHmMIyfyVh",
    "outputId": "e8c246f4-7be5-4cb0-db95-e2fa37895913"
   },
   "outputs": [
    {
     "name": "stdout",
     "output_type": "stream",
     "text": [
      "30\n"
     ]
    }
   ],
   "source": [
    "# write your code here\n",
    "my_set = {10, 20, 5, 30, 15}\n",
    "\n",
    "max_value = max(my_set)\n",
    "print(max_value)\n"
   ]
  },
  {
   "cell_type": "markdown",
   "id": "RHn1Kk-ufyVh",
   "metadata": {
    "id": "RHn1Kk-ufyVh"
   },
   "source": [
    "### Sets Q10\n",
    "\n",
    "**Problem:** Find the minimum element in a set.\n",
    "\n",
    "**Expected answer should look like (example):**\n",
    "```\n",
    "min_value\n",
    "```"
   ]
  },
  {
   "cell_type": "code",
   "execution_count": null,
   "id": "ePKcbSaafyVh",
   "metadata": {
    "colab": {
     "base_uri": "https://localhost:8080/"
    },
    "id": "ePKcbSaafyVh",
    "outputId": "f54876fe-901e-4ab4-ff8b-322a9264055e"
   },
   "outputs": [
    {
     "name": "stdout",
     "output_type": "stream",
     "text": [
      "5\n"
     ]
    }
   ],
   "source": [
    "# write your code here\n",
    "my_set = {10, 20, 5, 30, 15}\n",
    "min_value = min(my_set)\n",
    "print(min_value)\n"
   ]
  },
  {
   "cell_type": "markdown",
   "id": "AzYVe4E2fyVh",
   "metadata": {
    "id": "AzYVe4E2fyVh"
   },
   "source": [
    "### Sets Q11\n",
    "\n",
    "**Problem:** Create a frozen set with elements 'a', 'b', and 'c'.\n",
    "\n",
    "**Expected answer should look like (example):**\n",
    "```\n",
    "frozenset({'a','b','c'})\n",
    "```"
   ]
  },
  {
   "cell_type": "code",
   "execution_count": null,
   "id": "AhMpp5WdfyVh",
   "metadata": {
    "colab": {
     "base_uri": "https://localhost:8080/"
    },
    "id": "AhMpp5WdfyVh",
    "outputId": "cb44a571-4b63-4077-c5ce-e0ae2705e011"
   },
   "outputs": [
    {
     "name": "stdout",
     "output_type": "stream",
     "text": [
      "frozenset({'b', 'c', 'a'})\n"
     ]
    }
   ],
   "source": [
    "# write your code here\n",
    "my_frozenset = frozenset(['a', 'b', 'c'])\n",
    "print(my_frozenset)\n"
   ]
  },
  {
   "cell_type": "markdown",
   "id": "b7SIy4MWfyVh",
   "metadata": {
    "id": "b7SIy4MWfyVh"
   },
   "source": [
    "### Sets Q12\n",
    "\n",
    "**Problem:** Check if a frozen set is immutable by attempting to add an element.\n",
    "\n",
    "**Expected answer should look like (example):**\n",
    "```\n",
    "AttributeError shown/handled\n",
    "```"
   ]
  },
  {
   "cell_type": "code",
   "execution_count": null,
   "id": "kaW8KcrnfyVi",
   "metadata": {
    "colab": {
     "base_uri": "https://localhost:8080/"
    },
    "id": "kaW8KcrnfyVi",
    "outputId": "44c6e417-b20c-4172-a277-bbc4deddadc5"
   },
   "outputs": [
    {
     "name": "stdout",
     "output_type": "stream",
     "text": [
      "Error: 'frozenset' object has no attribute 'add'\n"
     ]
    }
   ],
   "source": [
    "# write your code here\n",
    "my_frozenset = frozenset(['a', 'b', 'c'])\n",
    "try:\n",
    "    my_frozenset.add('d')  # This will raise an error\n",
    "except AttributeError as e:\n",
    "    print(\"Error:\", e)\n"
   ]
  },
  {
   "cell_type": "markdown",
   "id": "u4PGg21HfyVi",
   "metadata": {
    "id": "u4PGg21HfyVi"
   },
   "source": [
    "### Sets Q13\n",
    "\n",
    "**Problem:** Find the union of a frozen set with a regular set.\n",
    "\n",
    "**Expected answer should look like (example):**\n",
    "```\n",
    "combined set\n",
    "```"
   ]
  },
  {
   "cell_type": "code",
   "execution_count": null,
   "id": "CFjOTXsAfyVi",
   "metadata": {
    "colab": {
     "base_uri": "https://localhost:8080/"
    },
    "id": "CFjOTXsAfyVi",
    "outputId": "31a21b3f-d8ae-4910-a3a4-a2f19cf46a4c"
   },
   "outputs": [
    {
     "name": "stdout",
     "output_type": "stream",
     "text": [
      "frozenset({'d', 'b', 'c', 'e', 'a'})\n"
     ]
    }
   ],
   "source": [
    "# write your code here\n",
    "frozen = frozenset(['a', 'b', 'c'])\n",
    "regular = {'c', 'd', 'e'}\n",
    "\n",
    "union_set = frozen.union(regular)\n",
    "\n",
    "print(union_set)\n",
    "\n"
   ]
  },
  {
   "cell_type": "markdown",
   "id": "l1AxUrgbfyVi",
   "metadata": {
    "id": "l1AxUrgbfyVi"
   },
   "source": [
    "### Sets Q14\n",
    "\n",
    "**Problem:** Convert a list with duplicate elements into a set to remove duplicates.\n",
    "\n",
    "**Expected answer should look like (example):**\n",
    "```\n",
    "{unique_elements}\n",
    "```"
   ]
  },
  {
   "cell_type": "code",
   "execution_count": null,
   "id": "uGYqDg-EfyVi",
   "metadata": {
    "colab": {
     "base_uri": "https://localhost:8080/"
    },
    "id": "uGYqDg-EfyVi",
    "outputId": "0b2af178-47b4-4424-a577-8964f40dfa77"
   },
   "outputs": [
    {
     "name": "stdout",
     "output_type": "stream",
     "text": [
      "{1, 2, 3, 4, 5}\n"
     ]
    }
   ],
   "source": [
    "# write your code here\n",
    "\n",
    "my_list = [1, 2, 2, 3, 4, 4, 5]\n",
    "\n",
    "unique_elements = set(my_list)\n",
    "\n",
    "print(unique_elements)\n"
   ]
  },
  {
   "cell_type": "markdown",
   "id": "LNVwzH2dfyVi",
   "metadata": {
    "id": "LNVwzH2dfyVi"
   },
   "source": [
    "### Sets Q15\n",
    "\n",
    "**Problem:** Create a set comprehension to generate squares of numbers from 1 to 5.\n",
    "\n",
    "**Expected answer should look like (example):**\n",
    "```\n",
    "{1,4,9,16,25}\n",
    "```"
   ]
  },
  {
   "cell_type": "code",
   "execution_count": null,
   "id": "ZL075CBkfyVi",
   "metadata": {
    "colab": {
     "base_uri": "https://localhost:8080/"
    },
    "id": "ZL075CBkfyVi",
    "outputId": "557ea5e6-4b77-4c88-8809-7cb130818c2c"
   },
   "outputs": [
    {
     "name": "stdout",
     "output_type": "stream",
     "text": [
      "{1, 4, 9, 16, 25}\n"
     ]
    }
   ],
   "source": [
    "# write your code here\n",
    "squares = {x**2 for x in range(1, 6)}\n",
    "print(squares)\n"
   ]
  },
  {
   "cell_type": "markdown",
   "id": "D0DqSpwUfyVi",
   "metadata": {
    "id": "D0DqSpwUfyVi"
   },
   "source": [
    "### Sets Q16\n",
    "\n",
    "**Problem:** Use the `intersection()` method on two sets.\n",
    "\n",
    "**Expected answer should look like (example):**\n",
    "```\n",
    "A ∩ B\n",
    "```"
   ]
  },
  {
   "cell_type": "code",
   "execution_count": null,
   "id": "CSbQd9H8fyVi",
   "metadata": {
    "colab": {
     "base_uri": "https://localhost:8080/"
    },
    "id": "CSbQd9H8fyVi",
    "outputId": "a3fdb058-3d20-4696-93fc-def884d7849f"
   },
   "outputs": [
    {
     "name": "stdout",
     "output_type": "stream",
     "text": [
      "{4, 5}\n"
     ]
    }
   ],
   "source": [
    "# write your code here\n",
    "setA = {1, 2, 3, 4, 5}\n",
    "setB = {4, 5, 6, 7}\n",
    "intersection_set = setA.intersection(setB)\n",
    "print(intersection_set)\n"
   ]
  },
  {
   "cell_type": "markdown",
   "id": "q2Zf6kwEfyVi",
   "metadata": {
    "id": "q2Zf6kwEfyVi"
   },
   "source": [
    "### Sets Q17\n",
    "\n",
    "**Problem:** Use `symmetric_difference()` between two sets.\n",
    "\n",
    "**Expected answer should look like (example):**\n",
    "```\n",
    "(A Δ B) set\n",
    "```"
   ]
  },
  {
   "cell_type": "code",
   "execution_count": null,
   "id": "JJOjcx6MfyVi",
   "metadata": {
    "colab": {
     "base_uri": "https://localhost:8080/"
    },
    "id": "JJOjcx6MfyVi",
    "outputId": "f1ff9b99-1313-4ff0-a2ff-869a8c589a56"
   },
   "outputs": [
    {
     "name": "stdout",
     "output_type": "stream",
     "text": [
      "{1, 2, 3, 6, 7}\n"
     ]
    }
   ],
   "source": [
    "# write your code here\n",
    "setA = {1, 2, 3, 4, 5}\n",
    "setB = {4, 5, 6, 7}\n",
    "\n",
    "sym_diff = setA.symmetric_difference(setB)\n",
    "\n",
    "print(sym_diff)\n"
   ]
  },
  {
   "cell_type": "markdown",
   "id": "iyPjq03kfyVj",
   "metadata": {
    "id": "iyPjq03kfyVj"
   },
   "source": [
    "### Sets Q18\n",
    "\n",
    "**Problem:** Iterate over elements of a set using a loop.\n",
    "\n",
    "**Expected answer should look like (example):**\n",
    "```\n",
    "elements printed (order arbitrary)\n",
    "```"
   ]
  },
  {
   "cell_type": "code",
   "execution_count": null,
   "id": "kchujqXKfyVj",
   "metadata": {
    "colab": {
     "base_uri": "https://localhost:8080/"
    },
    "id": "kchujqXKfyVj",
    "outputId": "1881cb83-8b3c-43c7-cc62-07d00cc7fa32"
   },
   "outputs": [
    {
     "name": "stdout",
     "output_type": "stream",
     "text": [
      "50\n",
      "20\n",
      "40\n",
      "10\n",
      "30\n"
     ]
    }
   ],
   "source": [
    "# write your code here\n",
    "my_set = {10, 20, 30, 40, 50}\n",
    "for element in my_set:\n",
    "    print(element)\n"
   ]
  },
  {
   "cell_type": "markdown",
   "id": "hxzkafUefyVj",
   "metadata": {
    "id": "hxzkafUefyVj"
   },
   "source": [
    "### Sets Q19\n",
    "\n",
    "**Problem:** Count elements in a set using `len()`.\n",
    "\n",
    "**Expected answer should look like (example):**\n",
    "```\n",
    "integer_count\n",
    "```"
   ]
  },
  {
   "cell_type": "code",
   "execution_count": null,
   "id": "M5lUlSKUfyVj",
   "metadata": {
    "colab": {
     "base_uri": "https://localhost:8080/"
    },
    "id": "M5lUlSKUfyVj",
    "outputId": "aa49beab-aff0-4a2d-99c9-771e50a1532b"
   },
   "outputs": [
    {
     "name": "stdout",
     "output_type": "stream",
     "text": [
      "5\n"
     ]
    }
   ],
   "source": [
    "# write your code here\n",
    "my_set = {10, 20, 30, 40, 50}\n",
    "integer_count = len(my_set)\n",
    "print(integer_count)\n"
   ]
  },
  {
   "cell_type": "markdown",
   "id": "60brTOPlfyVj",
   "metadata": {
    "id": "60brTOPlfyVj"
   },
   "source": [
    "### Sets Q20\n",
    "\n",
    "**Problem:** Copy a set using `copy()` and verify it is separate.\n",
    "\n",
    "**Expected answer should look like (example):**\n",
    "```\n",
    "True when A is B is False; mutation doesn't affect copy\n",
    "```"
   ]
  },
  {
   "cell_type": "code",
   "execution_count": null,
   "id": "_9s80IdsfyVj",
   "metadata": {
    "colab": {
     "base_uri": "https://localhost:8080/"
    },
    "id": "_9s80IdsfyVj",
    "outputId": "7d62816a-ddd3-4141-9110-e7cf88d3298b"
   },
   "outputs": [
    {
     "name": "stdout",
     "output_type": "stream",
     "text": [
      "Are setA and setB the same object? False\n"
     ]
    }
   ],
   "source": [
    "# write your code here\n",
    "setA = {1, 2, 3, 4, 5}\n",
    "\n",
    "setB = setA.copy()\n",
    "\n",
    "\n",
    "print(\"Are setA and setB the same object?\", setA is setB)  # Should be False\n",
    "\n"
   ]
  },
  {
   "cell_type": "markdown",
   "id": "SpYizfRbfyVl",
   "metadata": {
    "id": "SpYizfRbfyVl"
   },
   "source": [
    "## Submission Note\n",
    "\n",
    "Dear student, kindly save this file on your computer and fill the assignment form that is there in your WhatsApp group to submit this assignment."
   ]
  }
 ],
 "metadata": {
  "colab": {
   "provenance": []
  },
  "kernelspec": {
   "display_name": "Python 3 (ipykernel)",
   "language": "python",
   "name": "python3"
  },
  "language_info": {
   "codemirror_mode": {
    "name": "ipython",
    "version": 3
   },
   "file_extension": ".py",
   "mimetype": "text/x-python",
   "name": "python",
   "nbconvert_exporter": "python",
   "pygments_lexer": "ipython3",
   "version": "3.13.5"
  }
 },
 "nbformat": 4,
 "nbformat_minor": 5
}
